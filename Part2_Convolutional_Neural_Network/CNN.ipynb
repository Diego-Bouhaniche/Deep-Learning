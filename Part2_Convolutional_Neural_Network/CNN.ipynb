{
 "cells": [
  {
   "cell_type": "markdown",
   "metadata": {},
   "source": [
    "# Partie 1 - Construction du CNN"
   ]
  },
  {
   "cell_type": "code",
   "execution_count": 2,
   "metadata": {},
   "outputs": [],
   "source": [
    "# Importation des modules\n",
    "from keras.models import Sequential     # Initialiser le réseau de neurones\n",
    "from keras.layers import Convolution2D  # Etape de convulution (image en 2D)\n",
    "from keras.layers import MaxPooling2D   # Etape de MaxPooling (image en 2D)\n",
    "from keras.layers import Flatten        # Applatir toutes les features map dans un vecteur vertical\n",
    "from keras.layers import Dense          # Ajouter des couches complètements connectées"
   ]
  },
  {
   "cell_type": "code",
   "execution_count": 3,
   "metadata": {},
   "outputs": [],
   "source": [
    "# Initialise le CNN\n",
    "classifier = Sequential()"
   ]
  },
  {
   "cell_type": "code",
   "execution_count": 5,
   "metadata": {},
   "outputs": [],
   "source": [
    "# Etape 1 : Couche de convolution\n",
    "classifier.add(Convolution2D(filters=32,               # 32 features maps\n",
    "                             kernel_size=3,            # Feature detector size = 3x3\n",
    "                             strides=1,                # On décalle le feature detector de 1 pixel à chaque fois\n",
    "                             input_shape =(64, 64, 3), # taille 64x64, 3 car images en couleurs\n",
    "                             activation = \"relu\"))     # fonction redresseur, on laisse passer le signal ou non"
   ]
  },
  {
   "cell_type": "code",
   "execution_count": 6,
   "metadata": {},
   "outputs": [
    {
     "name": "stdout",
     "output_type": "stream",
     "text": [
      "WARNING:tensorflow:From D:\\Anaconda\\envs\\deeplearningaz\\lib\\site-packages\\keras\\backend\\tensorflow_backend.py:4070: The name tf.nn.max_pool is deprecated. Please use tf.nn.max_pool2d instead.\n",
      "\n"
     ]
    }
   ],
   "source": [
    "# Etape 2 : Couche de pooling\n",
    "classifier.add(MaxPooling2D(pool_size=(2,2))) # On divise la taille de chaque feature map par 2\n",
    "\n",
    "(# Etape 2.5 : Couche de convolution et pooling supplémentaire pour augmenter l'accuracy)\n",
    "classifier.add(Convolution2D(filters=32,               \n",
    "                             kernel_size=3,            \n",
    "                             strides=1,                \n",
    "                             activation = \"relu\"))     \n",
    "\n",
    "classifier.add(MaxPooling2D(pool_size=(2,2)))"
   ]
  },
  {
   "cell_type": "code",
   "execution_count": 7,
   "metadata": {},
   "outputs": [],
   "source": [
    "# Etape 3 : Couche de flattening\n",
    "classifier.add(Flatten()) # On applatit toutes les features map dans un vecteur vertical"
   ]
  },
  {
   "cell_type": "code",
   "execution_count": 8,
   "metadata": {},
   "outputs": [],
   "source": [
    "# Etape 4 : Couche complètement connectée\n",
    "classifier.add(Dense(units=128, activation=\"relu\")) # 128 neurones + relu\n",
    "classifier.add(Dense(units=1,   activation=\"sigmoid\")) # 1 neurone de sortie + sigmoid pour avoir la probabilité de la classification"
   ]
  },
  {
   "cell_type": "code",
   "execution_count": 10,
   "metadata": {},
   "outputs": [
    {
     "name": "stdout",
     "output_type": "stream",
     "text": [
      "WARNING:tensorflow:From D:\\Anaconda\\envs\\deeplearningaz\\lib\\site-packages\\tensorflow\\python\\ops\\nn_impl.py:180: add_dispatch_support.<locals>.wrapper (from tensorflow.python.ops.array_ops) is deprecated and will be removed in a future version.\n",
      "Instructions for updating:\n",
      "Use tf.where in 2.0, which has the same broadcast rule as np.where\n"
     ]
    }
   ],
   "source": [
    "# Compilation du CNN\n",
    "classifier.compile(optimizer=\"adam\",           # Algorithme du gradient\n",
    "                   loss=\"binary_crossentropy\", # Fonction de coût pour faire de la classification avec 2 catégories\n",
    "                   metrics=[\"accuracy\"])      # Mesurer la performance"
   ]
  },
  {
   "cell_type": "code",
   "execution_count": 12,
   "metadata": {},
   "outputs": [
    {
     "name": "stdout",
     "output_type": "stream",
     "text": [
      "Found 8000 images belonging to 2 classes.\n",
      "Found 2000 images belonging to 2 classes.\n"
     ]
    }
   ],
   "source": [
    "# Entraîner le CNN sur nos images\n",
    "# Attention à l'overfitting\n",
    "\n",
    "from keras.preprocessing.image import ImageDataGenerator\n",
    "\n",
    "train_datagen = ImageDataGenerator(rescale = 1./255,\n",
    "                                   shear_range = 0.2, # Transvection\n",
    "                                   zoom_range = 0.2,\n",
    "                                   horizontal_flip = True)\n",
    "\n",
    "test_datagen = ImageDataGenerator(rescale = 1./255)\n",
    "\n",
    "\n",
    "training_set = train_datagen.flow_from_directory('dataset/training_set',\n",
    "                                                 target_size = (64, 64),\n",
    "                                                 batch_size = 32,         # 8000 images répartis dans 32 lots différents\n",
    "                                                 class_mode = 'binary')\n",
    "\n",
    "test_set = test_datagen.flow_from_directory('dataset/test_set',\n",
    "                                            target_size = (64, 64),\n",
    "                                            batch_size = 32,              # 2000 images répartis dans 32 lots différents\n",
    "                                            class_mode = 'binary')"
   ]
  },
  {
   "cell_type": "code",
   "execution_count": 13,
   "metadata": {},
   "outputs": [
    {
     "name": "stdout",
     "output_type": "stream",
     "text": [
      "WARNING:tensorflow:From D:\\Anaconda\\envs\\deeplearningaz\\lib\\site-packages\\keras\\backend\\tensorflow_backend.py:422: The name tf.global_variables is deprecated. Please use tf.compat.v1.global_variables instead.\n",
      "\n",
      "Epoch 1/25\n",
      "250/250 [==============================] - 150s 601ms/step - loss: 0.6955 - accuracy: 0.6294 - val_loss: 0.4663 - val_accuracy: 0.6555\n",
      "Epoch 2/25\n",
      "250/250 [==============================] - 33s 131ms/step - loss: 0.5900 - accuracy: 0.6913 - val_loss: 0.4510 - val_accuracy: 0.6930\n",
      "Epoch 3/25\n",
      "250/250 [==============================] - 34s 137ms/step - loss: 0.5559 - accuracy: 0.7140 - val_loss: 0.8357 - val_accuracy: 0.7230\n",
      "Epoch 4/25\n",
      "250/250 [==============================] - 33s 131ms/step - loss: 0.5390 - accuracy: 0.7312 - val_loss: 0.5765 - val_accuracy: 0.6900\n",
      "Epoch 5/25\n",
      "250/250 [==============================] - 33s 132ms/step - loss: 0.5204 - accuracy: 0.7380 - val_loss: 0.5359 - val_accuracy: 0.7415\n",
      "Epoch 6/25\n",
      "250/250 [==============================] - 32s 126ms/step - loss: 0.5133 - accuracy: 0.7435 - val_loss: 0.6429 - val_accuracy: 0.7415\n",
      "Epoch 7/25\n",
      "250/250 [==============================] - 33s 134ms/step - loss: 0.4950 - accuracy: 0.7563 - val_loss: 0.4731 - val_accuracy: 0.7345\n",
      "Epoch 8/25\n",
      "250/250 [==============================] - 33s 132ms/step - loss: 0.4791 - accuracy: 0.7669 - val_loss: 0.5948 - val_accuracy: 0.7395\n",
      "Epoch 9/25\n",
      "250/250 [==============================] - 33s 133ms/step - loss: 0.4639 - accuracy: 0.7765 - val_loss: 0.5541 - val_accuracy: 0.7490\n",
      "Epoch 10/25\n",
      "250/250 [==============================] - 34s 136ms/step - loss: 0.4570 - accuracy: 0.7822 - val_loss: 0.9852 - val_accuracy: 0.7350\n",
      "Epoch 11/25\n",
      "250/250 [==============================] - 36s 144ms/step - loss: 0.4429 - accuracy: 0.7847 - val_loss: 0.7351 - val_accuracy: 0.7455\n",
      "Epoch 12/25\n",
      "250/250 [==============================] - 32s 128ms/step - loss: 0.4282 - accuracy: 0.7986 - val_loss: 0.2539 - val_accuracy: 0.7615\n",
      "Epoch 13/25\n",
      "250/250 [==============================] - 32s 126ms/step - loss: 0.4206 - accuracy: 0.8054 - val_loss: 0.7520 - val_accuracy: 0.7695\n",
      "Epoch 14/25\n",
      "250/250 [==============================] - 31s 123ms/step - loss: 0.4013 - accuracy: 0.8148 - val_loss: 0.5450 - val_accuracy: 0.7735\n",
      "Epoch 15/25\n",
      "250/250 [==============================] - 33s 131ms/step - loss: 0.3815 - accuracy: 0.8303 - val_loss: 0.8996 - val_accuracy: 0.7705\n",
      "Epoch 16/25\n",
      "250/250 [==============================] - 33s 130ms/step - loss: 0.3783 - accuracy: 0.8266 - val_loss: 0.4164 - val_accuracy: 0.7805\n",
      "Epoch 17/25\n",
      "250/250 [==============================] - 32s 130ms/step - loss: 0.3706 - accuracy: 0.8355 - val_loss: 0.4601 - val_accuracy: 0.7775\n",
      "Epoch 18/25\n",
      "250/250 [==============================] - 32s 127ms/step - loss: 0.3600 - accuracy: 0.8407 - val_loss: 1.0770 - val_accuracy: 0.7580\n",
      "Epoch 19/25\n",
      "250/250 [==============================] - 33s 131ms/step - loss: 0.3465 - accuracy: 0.8485 - val_loss: 1.2354 - val_accuracy: 0.7590\n",
      "Epoch 20/25\n",
      "250/250 [==============================] - 32s 129ms/step - loss: 0.3335 - accuracy: 0.8579 - val_loss: 0.1600 - val_accuracy: 0.7815\n",
      "Epoch 21/25\n",
      "250/250 [==============================] - 33s 130ms/step - loss: 0.3218 - accuracy: 0.8624 - val_loss: 0.8825 - val_accuracy: 0.7855\n",
      "Epoch 22/25\n",
      "250/250 [==============================] - 33s 130ms/step - loss: 0.3096 - accuracy: 0.8665 - val_loss: 0.9944 - val_accuracy: 0.7805\n",
      "Epoch 23/25\n",
      "250/250 [==============================] - 34s 134ms/step - loss: 0.2990 - accuracy: 0.8714 - val_loss: 0.3664 - val_accuracy: 0.7755\n",
      "Epoch 24/25\n",
      "250/250 [==============================] - 32s 127ms/step - loss: 0.2837 - accuracy: 0.8767 - val_loss: 0.2618 - val_accuracy: 0.7720\n",
      "Epoch 25/25\n",
      "250/250 [==============================] - 34s 137ms/step - loss: 0.2771 - accuracy: 0.8801 - val_loss: 1.1761 - val_accuracy: 0.7680\n"
     ]
    },
    {
     "data": {
      "text/plain": [
       "<keras.callbacks.callbacks.History at 0x1d073a39ba8>"
      ]
     },
     "execution_count": 13,
     "metadata": {},
     "output_type": "execute_result"
    }
   ],
   "source": [
    "# Entraînement\n",
    "classifier.fit_generator(training_set,\n",
    "                        steps_per_epoch=250,        # 250 images de training dans chaque lot (250*32 = 8000 images)\n",
    "                        epochs=25,                  # On passe 25 fois sur le training set\n",
    "                        validation_data=test_set,\n",
    "                        validation_steps=63)        # 63 images de test dans chaque lot (62.5*32 = 2000 images)"
   ]
  },
  {
   "cell_type": "code",
   "execution_count": 36,
   "metadata": {},
   "outputs": [
    {
     "name": "stdout",
     "output_type": "stream",
     "text": [
      "Je pense que c'est un chien !\n"
     ]
    }
   ],
   "source": [
    "# Single prediction\n",
    "\n",
    "import numpy as np\n",
    "from keras.preprocessing import image\n",
    "test_image = image.load_img(\"dataset/single_prediction/cat_or_dog_1.jpg\", target_size = (64, 64))\n",
    "\n",
    "test_image = image.img_to_array(test_image)\n",
    "test_image = np.expand_dims(test_image, axis=0)\n",
    "result = classifier.predict(test_image)\n",
    "training_set.class_indices # format\n",
    "\n",
    "if result[0][0] == 1: # Si première ligne première colonne == 1\n",
    "    prediction = \"Je pense que c'est un chien !\"\n",
    "else:\n",
    "    prediction = \"Je pense que c'est un chat !\"\n",
    "print(prediction)"
   ]
  },
  {
   "cell_type": "code",
   "execution_count": null,
   "metadata": {},
   "outputs": [],
   "source": []
  }
 ],
 "metadata": {
  "kernelspec": {
   "display_name": "Python 3",
   "language": "python",
   "name": "python3"
  },
  "language_info": {
   "codemirror_mode": {
    "name": "ipython",
    "version": 3
   },
   "file_extension": ".py",
   "mimetype": "text/x-python",
   "name": "python",
   "nbconvert_exporter": "python",
   "pygments_lexer": "ipython3",
   "version": "3.6.10"
  }
 },
 "nbformat": 4,
 "nbformat_minor": 4
}
